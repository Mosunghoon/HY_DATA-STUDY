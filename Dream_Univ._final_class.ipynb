{
 "cells": [
  {
   "cell_type": "markdown",
   "metadata": {},
   "source": [
    "## 실습#1 우리학교는 어디에?"
   ]
  },
  {
   "cell_type": "markdown",
   "metadata": {},
   "source": [
    "### 1. 라이브러리 설정"
   ]
  },
  {
   "cell_type": "code",
   "execution_count": 1,
   "metadata": {
    "collapsed": true
   },
   "outputs": [],
   "source": [
    "import sys\n",
    "import time\n",
    "from selenium import webdriver\n",
    "from bs4 import BeautifulSoup\n",
    "import pandas as pd"
   ]
  },
  {
   "cell_type": "markdown",
   "metadata": {},
   "source": [
    "###  2. 데이터 수집하기(셀레니움 활용)"
   ]
  },
  {
   "cell_type": "code",
   "execution_count": 2,
   "metadata": {
    "collapsed": true
   },
   "outputs": [],
   "source": [
    "#웹드라이버의 주소를 적고, 웹사이트 불러오기\n",
    "driver = webdriver.Chrome('C:/Users/kogas/Downloads/chromedriver')\n",
    "driver.get(\"http://krsearch.co.kr/\")"
   ]
  },
  {
   "cell_type": "code",
   "execution_count": 3,
   "metadata": {
    "collapsed": true
   },
   "outputs": [],
   "source": [
    "# 학교 리스트\n",
    "q_list = ['원곡고등학교','상록고등학교', '양지고등학교', '행신고등학교', '안산고등학교', '초지고등학교', '불곡고등학교']"
   ]
  },
  {
   "cell_type": "code",
   "execution_count": 4,
   "metadata": {
    "collapsed": true
   },
   "outputs": [],
   "source": [
    "# 고등학교 검색\n",
    "all_data = []\n",
    "for q in q_list:\n",
    "    search_element = driver.find_element_by_name('p')\n",
    "    search_element.clear()\n",
    "    search_element.send_keys(q)\n",
    "# 검색 후 클릭\n",
    "    search_button = driver.find_element_by_class_name(\"searchbtn2\")\n",
    "    search_button.click()\n",
    "# 검색결과 수집\n",
    "    pageSource = driver.page_source\n",
    "    bsObj = BeautifulSoup(pageSource, 'html.parser')\n",
    "    school=[]\n",
    "    data = bsObj.find_all('td',{\"class\":\"bbslist\"})\n",
    "    school.append(data[0].get_text().strip())\n",
    "    school.append(data[1].get_text().strip())\n",
    "    driver.get(\"http://krsearch.co.kr/\")\n",
    "    all_data.append(school)"
   ]
  },
  {
   "cell_type": "code",
   "execution_count": 5,
   "metadata": {
    "scrolled": true
   },
   "outputs": [
    {
     "data": {
      "text/plain": [
       "[['원곡고등학교', '경기도 안산시 단원구 원곡동 965-1번지'],\n",
       " ['상록고등학교', '경기도 안산시 상록구 본오동 산127-1번지'],\n",
       " ['양지고등학교', '경기도 안산시 단원구 고잔동 713번지'],\n",
       " ['행신고등학교', '경기도 고양시 덕양구 행신동 790번지'],\n",
       " ['안산고등학교', '경기도 안산시 상록구 청룡4길 8'],\n",
       " ['초지고등학교', '경기도 안산시 단원구 광덕1로 13'],\n",
       " ['불곡고등학교', '경기도 성남시 분당구 금곡로 149번지']]"
      ]
     },
     "execution_count": 5,
     "metadata": {},
     "output_type": "execute_result"
    }
   ],
   "source": [
    "#데이터 확인\n",
    "all_data"
   ]
  },
  {
   "cell_type": "code",
   "execution_count": 6,
   "metadata": {
    "collapsed": true
   },
   "outputs": [],
   "source": [
    "# DataFrame 형태로 바꾸기\n",
    "fdata = pd.DataFrame(all_data, columns = ['name','address'])"
   ]
  },
  {
   "cell_type": "code",
   "execution_count": 7,
   "metadata": {},
   "outputs": [
    {
     "data": {
      "text/html": [
       "<div>\n",
       "<style>\n",
       "    .dataframe thead tr:only-child th {\n",
       "        text-align: right;\n",
       "    }\n",
       "\n",
       "    .dataframe thead th {\n",
       "        text-align: left;\n",
       "    }\n",
       "\n",
       "    .dataframe tbody tr th {\n",
       "        vertical-align: top;\n",
       "    }\n",
       "</style>\n",
       "<table border=\"1\" class=\"dataframe\">\n",
       "  <thead>\n",
       "    <tr style=\"text-align: right;\">\n",
       "      <th></th>\n",
       "      <th>name</th>\n",
       "      <th>address</th>\n",
       "    </tr>\n",
       "  </thead>\n",
       "  <tbody>\n",
       "    <tr>\n",
       "      <th>0</th>\n",
       "      <td>원곡고등학교</td>\n",
       "      <td>경기도 안산시 단원구 원곡동 965-1번지</td>\n",
       "    </tr>\n",
       "    <tr>\n",
       "      <th>1</th>\n",
       "      <td>상록고등학교</td>\n",
       "      <td>경기도 안산시 상록구 본오동 산127-1번지</td>\n",
       "    </tr>\n",
       "    <tr>\n",
       "      <th>2</th>\n",
       "      <td>양지고등학교</td>\n",
       "      <td>경기도 안산시 단원구 고잔동 713번지</td>\n",
       "    </tr>\n",
       "    <tr>\n",
       "      <th>3</th>\n",
       "      <td>행신고등학교</td>\n",
       "      <td>경기도 고양시 덕양구 행신동 790번지</td>\n",
       "    </tr>\n",
       "    <tr>\n",
       "      <th>4</th>\n",
       "      <td>안산고등학교</td>\n",
       "      <td>경기도 안산시 상록구 청룡4길 8</td>\n",
       "    </tr>\n",
       "    <tr>\n",
       "      <th>5</th>\n",
       "      <td>초지고등학교</td>\n",
       "      <td>경기도 안산시 단원구 광덕1로 13</td>\n",
       "    </tr>\n",
       "    <tr>\n",
       "      <th>6</th>\n",
       "      <td>불곡고등학교</td>\n",
       "      <td>경기도 성남시 분당구 금곡로 149번지</td>\n",
       "    </tr>\n",
       "  </tbody>\n",
       "</table>\n",
       "</div>"
      ],
      "text/plain": [
       "     name                   address\n",
       "0  원곡고등학교   경기도 안산시 단원구 원곡동 965-1번지\n",
       "1  상록고등학교  경기도 안산시 상록구 본오동 산127-1번지\n",
       "2  양지고등학교     경기도 안산시 단원구 고잔동 713번지\n",
       "3  행신고등학교     경기도 고양시 덕양구 행신동 790번지\n",
       "4  안산고등학교        경기도 안산시 상록구 청룡4길 8\n",
       "5  초지고등학교       경기도 안산시 단원구 광덕1로 13\n",
       "6  불곡고등학교     경기도 성남시 분당구 금곡로 149번지"
      ]
     },
     "execution_count": 7,
     "metadata": {},
     "output_type": "execute_result"
    }
   ],
   "source": [
    "fdata"
   ]
  },
  {
   "cell_type": "code",
   "execution_count": 8,
   "metadata": {
    "collapsed": true
   },
   "outputs": [],
   "source": [
    "#데이터 csv 파일로 저장\n",
    "fdata.to_csv('school.csv')"
   ]
  },
  {
   "cell_type": "markdown",
   "metadata": {},
   "source": [
    "### 3. 위/경도 정보 만들기 "
   ]
  },
  {
   "cell_type": "markdown",
   "metadata": {},
   "source": [
    "#### 3-1 방법#1. Geocode by Awesome Table 사용"
   ]
  },
  {
   "cell_type": "code",
   "execution_count": 33,
   "metadata": {
    "collapsed": true
   },
   "outputs": [],
   "source": [
    "#위,경도 데이터 전환 후 불러오기\n",
    "school_df = pd.read_csv('./school2.csv')"
   ]
  },
  {
   "cell_type": "code",
   "execution_count": 34,
   "metadata": {
    "scrolled": true
   },
   "outputs": [
    {
     "data": {
      "text/html": [
       "<div>\n",
       "<style>\n",
       "    .dataframe thead tr:only-child th {\n",
       "        text-align: right;\n",
       "    }\n",
       "\n",
       "    .dataframe thead th {\n",
       "        text-align: left;\n",
       "    }\n",
       "\n",
       "    .dataframe tbody tr th {\n",
       "        vertical-align: top;\n",
       "    }\n",
       "</style>\n",
       "<table border=\"1\" class=\"dataframe\">\n",
       "  <thead>\n",
       "    <tr style=\"text-align: right;\">\n",
       "      <th></th>\n",
       "      <th>name</th>\n",
       "      <th>address</th>\n",
       "      <th>Latitude</th>\n",
       "      <th>Longitude</th>\n",
       "    </tr>\n",
       "  </thead>\n",
       "  <tbody>\n",
       "    <tr>\n",
       "      <th>0</th>\n",
       "      <td>원곡고등학교</td>\n",
       "      <td>경기도 안산시 단원구 원곡동 965-1번지</td>\n",
       "      <td>37.333300</td>\n",
       "      <td>126.798053</td>\n",
       "    </tr>\n",
       "    <tr>\n",
       "      <th>1</th>\n",
       "      <td>상록고등학교</td>\n",
       "      <td>경기도 안산시 상록구 본오동 산127-1번지</td>\n",
       "      <td>37.299510</td>\n",
       "      <td>126.874971</td>\n",
       "    </tr>\n",
       "    <tr>\n",
       "      <th>2</th>\n",
       "      <td>양지고등학교</td>\n",
       "      <td>경기도 안산시 단원구 고잔동 713번지</td>\n",
       "      <td>37.309535</td>\n",
       "      <td>126.822268</td>\n",
       "    </tr>\n",
       "    <tr>\n",
       "      <th>3</th>\n",
       "      <td>행신고등학교</td>\n",
       "      <td>경기도 고양시 덕양구 행신동 790번지</td>\n",
       "      <td>37.616131</td>\n",
       "      <td>126.842504</td>\n",
       "    </tr>\n",
       "    <tr>\n",
       "      <th>4</th>\n",
       "      <td>안산고등학교</td>\n",
       "      <td>경기도 안산시 상록구 청룡4길 8</td>\n",
       "      <td>37.360044</td>\n",
       "      <td>126.873672</td>\n",
       "    </tr>\n",
       "  </tbody>\n",
       "</table>\n",
       "</div>"
      ],
      "text/plain": [
       "     name                   address   Latitude   Longitude\n",
       "0  원곡고등학교   경기도 안산시 단원구 원곡동 965-1번지  37.333300  126.798053\n",
       "1  상록고등학교  경기도 안산시 상록구 본오동 산127-1번지  37.299510  126.874971\n",
       "2  양지고등학교     경기도 안산시 단원구 고잔동 713번지  37.309535  126.822268\n",
       "3  행신고등학교     경기도 고양시 덕양구 행신동 790번지  37.616131  126.842504\n",
       "4  안산고등학교        경기도 안산시 상록구 청룡4길 8  37.360044  126.873672"
      ]
     },
     "execution_count": 34,
     "metadata": {},
     "output_type": "execute_result"
    }
   ],
   "source": [
    "school_df.head(5)"
   ]
  },
  {
   "cell_type": "markdown",
   "metadata": {},
   "source": [
    "#### 3-2 방법#2. google geocode API를 사용"
   ]
  },
  {
   "cell_type": "code",
   "execution_count": 24,
   "metadata": {
    "collapsed": true
   },
   "outputs": [],
   "source": [
    "school_df = pd.read_csv('./school.csv', engine = 'python')"
   ]
  },
  {
   "cell_type": "code",
   "execution_count": 28,
   "metadata": {
    "collapsed": true
   },
   "outputs": [],
   "source": [
    "school_df = school_df.drop('Unnamed: 0', axis=1)"
   ]
  },
  {
   "cell_type": "code",
   "execution_count": 9,
   "metadata": {
    "scrolled": false
   },
   "outputs": [
    {
     "data": {
      "text/html": [
       "<div>\n",
       "<style>\n",
       "    .dataframe thead tr:only-child th {\n",
       "        text-align: right;\n",
       "    }\n",
       "\n",
       "    .dataframe thead th {\n",
       "        text-align: left;\n",
       "    }\n",
       "\n",
       "    .dataframe tbody tr th {\n",
       "        vertical-align: top;\n",
       "    }\n",
       "</style>\n",
       "<table border=\"1\" class=\"dataframe\">\n",
       "  <thead>\n",
       "    <tr style=\"text-align: right;\">\n",
       "      <th></th>\n",
       "      <th>name</th>\n",
       "      <th>address</th>\n",
       "    </tr>\n",
       "  </thead>\n",
       "  <tbody>\n",
       "    <tr>\n",
       "      <th>0</th>\n",
       "      <td>원곡고등학교</td>\n",
       "      <td>경기도 안산시 단원구 원곡동 965-1번지</td>\n",
       "    </tr>\n",
       "    <tr>\n",
       "      <th>1</th>\n",
       "      <td>상록고등학교</td>\n",
       "      <td>경기도 안산시 상록구 본오동 산127-1번지</td>\n",
       "    </tr>\n",
       "    <tr>\n",
       "      <th>2</th>\n",
       "      <td>양지고등학교</td>\n",
       "      <td>경기도 안산시 단원구 고잔동 713번지</td>\n",
       "    </tr>\n",
       "    <tr>\n",
       "      <th>3</th>\n",
       "      <td>행신고등학교</td>\n",
       "      <td>경기도 고양시 덕양구 행신동 790번지</td>\n",
       "    </tr>\n",
       "    <tr>\n",
       "      <th>4</th>\n",
       "      <td>안산고등학교</td>\n",
       "      <td>경기도 안산시 상록구 청룡4길 8</td>\n",
       "    </tr>\n",
       "    <tr>\n",
       "      <th>5</th>\n",
       "      <td>초지고등학교</td>\n",
       "      <td>경기도 안산시 단원구 광덕1로 13</td>\n",
       "    </tr>\n",
       "    <tr>\n",
       "      <th>6</th>\n",
       "      <td>불곡고등학교</td>\n",
       "      <td>경기도 성남시 분당구 금곡로 149번지</td>\n",
       "    </tr>\n",
       "  </tbody>\n",
       "</table>\n",
       "</div>"
      ],
      "text/plain": [
       "     name                   address\n",
       "0  원곡고등학교   경기도 안산시 단원구 원곡동 965-1번지\n",
       "1  상록고등학교  경기도 안산시 상록구 본오동 산127-1번지\n",
       "2  양지고등학교     경기도 안산시 단원구 고잔동 713번지\n",
       "3  행신고등학교     경기도 고양시 덕양구 행신동 790번지\n",
       "4  안산고등학교        경기도 안산시 상록구 청룡4길 8\n",
       "5  초지고등학교       경기도 안산시 단원구 광덕1로 13\n",
       "6  불곡고등학교     경기도 성남시 분당구 금곡로 149번지"
      ]
     },
     "execution_count": 9,
     "metadata": {},
     "output_type": "execute_result"
    }
   ],
   "source": [
    "school_df"
   ]
  },
  {
   "cell_type": "markdown",
   "metadata": {},
   "source": [
    "위의 순서대로 DataFrame 내용을 school.csv로 파일으로서 저장했다면 위의 방식을 따라 school_df라는 DataFrame 객체를 활용하고"
   ]
  },
  {
   "cell_type": "markdown",
   "metadata": {},
   "source": [
    "그냥 진행해보고 싶다면 fdata 객체를 활용해서 진행한다."
   ]
  },
  {
   "cell_type": "markdown",
   "metadata": {},
   "source": [
    "#### API를 활용해 위경도로 바꾸는 함수 만들기"
   ]
  },
  {
   "cell_type": "code",
   "execution_count": 10,
   "metadata": {
    "collapsed": true
   },
   "outputs": [],
   "source": [
    "import requests\n",
    "import json\n",
    "\n",
    "def get_latitude_longitude(addr):\n",
    "    '''\n",
    "    DESCRIPTION: 주소를 입력하면 위도(latitude)/경도(longitude)를 반환하는 함수 \n",
    "    ex) get_latitude_longitude('경기도 안산시 상록구 한양대학로 55')\n",
    "    '''\n",
    "    location = addr\n",
    "    response = requests.get('http://maps.googleapis.com/maps/api/geocode/json?sensor=false&language=ko&address=' + location)    \n",
    "    loc_dict = json.loads(response.text)\n",
    "    latitude = loc_dict['results'][0]['geometry']['location']['lat'] \n",
    "    longitude = loc_dict['results'][0]['geometry']['location']['lng']\n",
    "    return [latitude, longitude]"
   ]
  },
  {
   "cell_type": "code",
   "execution_count": 13,
   "metadata": {},
   "outputs": [],
   "source": [
    "# 위/경도 정보로 저장해 새로운 데이터 형성 후 저장하기\n",
    "latitude_list = []\n",
    "longitude_list = []\n",
    "for i in fdata['address'].values:\n",
    "    lat, lon = get_latitude_longitude(i)\n",
    "    latitude_list.append(lat)\n",
    "    longitude_list.append(lon)\n",
    "\n",
    "fdata['latitude'] = latitude_list\n",
    "fdata['longitude'] = longitude_list"
   ]
  },
  {
   "cell_type": "markdown",
   "metadata": {},
   "source": [
    "###  4. 지도로 표시하기"
   ]
  },
  {
   "cell_type": "code",
   "execution_count": 14,
   "metadata": {
    "collapsed": true
   },
   "outputs": [],
   "source": [
    "import folium\n",
    "# 오류수정 17.10.10 - Latitude, Longitude를 latitude, longitude로 변경. \n",
    "hanyang_univ_map = folium.Map(location=[37.298524, 126.834712], zoom_start=10)\n",
    "for l in fdata[['name', 'latitude', 'longitude']].values:\n",
    "#    folium.Marker(l[1:],popup=l[0], icon=folium.Icon(color='red')).add_to(한양대지도)\n",
    "    folium.CircleMarker(l[1:], popup=l[0], color='red', fill_color='red', radius=5).add_to(hanyang_univ_map)"
   ]
  },
  {
   "cell_type": "code",
   "execution_count": 15,
   "metadata": {
    "scrolled": true
   },
   "outputs": [
    {
     "data": {
      "text/html": [
       "<div style=\"width:100%;\"><div style=\"position:relative;width:100%;height:0;padding-bottom:60%;\"><iframe src=\"data:text/html;charset=utf-8;base64,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\" style=\"position:absolute;width:100%;height:100%;left:0;top:0;border:none !important;\" allowfullscreen webkitallowfullscreen mozallowfullscreen></iframe></div></div>"
      ],
      "text/plain": [
       "<folium.folium.Map at 0x716af70>"
      ]
     },
     "execution_count": 15,
     "metadata": {},
     "output_type": "execute_result"
    }
   ],
   "source": [
    "hanyang_univ_map"
   ]
  },
  {
   "cell_type": "markdown",
   "metadata": {},
   "source": [
    "## 실습#2 제일 가까운 학교는? "
   ]
  },
  {
   "cell_type": "markdown",
   "metadata": {},
   "source": [
    "###  1. 기준 위치 설정하기"
   ]
  },
  {
   "cell_type": "code",
   "execution_count": 16,
   "metadata": {
    "collapsed": true
   },
   "outputs": [],
   "source": [
    "# 주소를 기반으로 위/경도 데이터 얻기\n",
    "#my_location = get_latitude_longitude('경기도 안산시 상록구 사3동 한양대학로55 한양대학교 경상대학')\n",
    "my_location = [37.296755, 126.836194]\n",
    "my_location_name = '한양대학교 제4공학관'"
   ]
  },
  {
   "cell_type": "markdown",
   "metadata": {},
   "source": [
    "### 2. 위치 계산기 만들기"
   ]
  },
  {
   "cell_type": "code",
   "execution_count": 17,
   "metadata": {
    "collapsed": true
   },
   "outputs": [],
   "source": [
    "import math\n",
    "def haversine(my_location, target_location):\n",
    "    '''\n",
    "    DESCRIPTION: 두 위도경도 사이의 대원거리(great circle distance)를 계산. 위도경도는 각도 단위로 계산.\n",
    "    '''\n",
    "    latitude1, longitude1 = my_location\n",
    "    latitude2, longitude2 = target_location\n",
    "    lat1, lon1, lat2, lon2 = map(math.radians, [latitude1, longitude1, latitude2, longitude2])\n",
    "    \n",
    "    d_lat = lat2 - lat1\n",
    "    d_lon = lon2 - lon1\n",
    "    \n",
    "    a = math.sin(d_lat / 2) ** 2 + math.cos(lat1) * math.cos(lat2) * math.sin(d_lon / 2) ** 2\n",
    "    c = 2 * math.atan2(math.sqrt(a), math.sqrt(1-a))\n",
    "    \n",
    "    meter = 6367 * c * 1000\n",
    "    return round(meter, 2)"
   ]
  },
  {
   "cell_type": "markdown",
   "metadata": {},
   "source": [
    "### 3. 거리 정보 저장하기"
   ]
  },
  {
   "cell_type": "code",
   "execution_count": 19,
   "metadata": {
    "collapsed": true
   },
   "outputs": [],
   "source": [
    "# 계산된 거리 정보 리스트화 하기\n",
    "distance_list = []\n",
    "for r in fdata[['latitude', 'longitude']].values:\n",
    "    distance_list.append(haversine(my_location, r))"
   ]
  },
  {
   "cell_type": "code",
   "execution_count": 47,
   "metadata": {
    "scrolled": true
   },
   "outputs": [
    {
     "data": {
      "text/plain": [
       "[5277.85, 3441.52, 1879.41]"
      ]
     },
     "execution_count": 47,
     "metadata": {},
     "output_type": "execute_result"
    }
   ],
   "source": [
    "distance_list[:3]"
   ]
  },
  {
   "cell_type": "code",
   "execution_count": 21,
   "metadata": {
    "collapsed": true
   },
   "outputs": [],
   "source": [
    "#기존의 school_df(혹은 fdata) 데이터프레임 데이터에 정보 추가하기\n",
    "fdata['distance'] = distance_list"
   ]
  },
  {
   "cell_type": "code",
   "execution_count": 22,
   "metadata": {},
   "outputs": [
    {
     "data": {
      "text/html": [
       "<div>\n",
       "<style>\n",
       "    .dataframe thead tr:only-child th {\n",
       "        text-align: right;\n",
       "    }\n",
       "\n",
       "    .dataframe thead th {\n",
       "        text-align: left;\n",
       "    }\n",
       "\n",
       "    .dataframe tbody tr th {\n",
       "        vertical-align: top;\n",
       "    }\n",
       "</style>\n",
       "<table border=\"1\" class=\"dataframe\">\n",
       "  <thead>\n",
       "    <tr style=\"text-align: right;\">\n",
       "      <th></th>\n",
       "      <th>name</th>\n",
       "      <th>address</th>\n",
       "      <th>latitude</th>\n",
       "      <th>longitude</th>\n",
       "      <th>distance</th>\n",
       "    </tr>\n",
       "  </thead>\n",
       "  <tbody>\n",
       "    <tr>\n",
       "      <th>0</th>\n",
       "      <td>원곡고등학교</td>\n",
       "      <td>경기도 안산시 단원구 원곡동 965-1번지</td>\n",
       "      <td>37.333300</td>\n",
       "      <td>126.798053</td>\n",
       "      <td>5277.85</td>\n",
       "    </tr>\n",
       "    <tr>\n",
       "      <th>1</th>\n",
       "      <td>상록고등학교</td>\n",
       "      <td>경기도 안산시 상록구 본오동 산127-1번지</td>\n",
       "      <td>37.299510</td>\n",
       "      <td>126.874971</td>\n",
       "      <td>3441.52</td>\n",
       "    </tr>\n",
       "    <tr>\n",
       "      <th>2</th>\n",
       "      <td>양지고등학교</td>\n",
       "      <td>경기도 안산시 단원구 고잔동 713번지</td>\n",
       "      <td>37.309535</td>\n",
       "      <td>126.822268</td>\n",
       "      <td>1879.41</td>\n",
       "    </tr>\n",
       "    <tr>\n",
       "      <th>3</th>\n",
       "      <td>행신고등학교</td>\n",
       "      <td>경기도 고양시 덕양구 행신동 790번지</td>\n",
       "      <td>37.616131</td>\n",
       "      <td>126.842504</td>\n",
       "      <td>35495.06</td>\n",
       "    </tr>\n",
       "    <tr>\n",
       "      <th>4</th>\n",
       "      <td>안산고등학교</td>\n",
       "      <td>경기도 안산시 상록구 청룡4길 8</td>\n",
       "      <td>37.360044</td>\n",
       "      <td>126.873672</td>\n",
       "      <td>7773.66</td>\n",
       "    </tr>\n",
       "    <tr>\n",
       "      <th>5</th>\n",
       "      <td>초지고등학교</td>\n",
       "      <td>경기도 안산시 단원구 광덕1로 13</td>\n",
       "      <td>37.309868</td>\n",
       "      <td>126.810919</td>\n",
       "      <td>2667.32</td>\n",
       "    </tr>\n",
       "    <tr>\n",
       "      <th>6</th>\n",
       "      <td>불곡고등학교</td>\n",
       "      <td>경기도 성남시 분당구 금곡로 149번지</td>\n",
       "      <td>37.348080</td>\n",
       "      <td>127.119199</td>\n",
       "      <td>25651.42</td>\n",
       "    </tr>\n",
       "  </tbody>\n",
       "</table>\n",
       "</div>"
      ],
      "text/plain": [
       "     name                   address   latitude   longitude  distance\n",
       "0  원곡고등학교   경기도 안산시 단원구 원곡동 965-1번지  37.333300  126.798053   5277.85\n",
       "1  상록고등학교  경기도 안산시 상록구 본오동 산127-1번지  37.299510  126.874971   3441.52\n",
       "2  양지고등학교     경기도 안산시 단원구 고잔동 713번지  37.309535  126.822268   1879.41\n",
       "3  행신고등학교     경기도 고양시 덕양구 행신동 790번지  37.616131  126.842504  35495.06\n",
       "4  안산고등학교        경기도 안산시 상록구 청룡4길 8  37.360044  126.873672   7773.66\n",
       "5  초지고등학교       경기도 안산시 단원구 광덕1로 13  37.309868  126.810919   2667.32\n",
       "6  불곡고등학교     경기도 성남시 분당구 금곡로 149번지  37.348080  127.119199  25651.42"
      ]
     },
     "execution_count": 22,
     "metadata": {},
     "output_type": "execute_result"
    }
   ],
   "source": [
    "fdata"
   ]
  },
  {
   "cell_type": "code",
   "execution_count": 23,
   "metadata": {
    "scrolled": true
   },
   "outputs": [
    {
     "data": {
      "text/html": [
       "<div>\n",
       "<style>\n",
       "    .dataframe thead tr:only-child th {\n",
       "        text-align: right;\n",
       "    }\n",
       "\n",
       "    .dataframe thead th {\n",
       "        text-align: left;\n",
       "    }\n",
       "\n",
       "    .dataframe tbody tr th {\n",
       "        vertical-align: top;\n",
       "    }\n",
       "</style>\n",
       "<table border=\"1\" class=\"dataframe\">\n",
       "  <thead>\n",
       "    <tr style=\"text-align: right;\">\n",
       "      <th></th>\n",
       "      <th>name</th>\n",
       "      <th>address</th>\n",
       "      <th>latitude</th>\n",
       "      <th>longitude</th>\n",
       "      <th>distance</th>\n",
       "    </tr>\n",
       "  </thead>\n",
       "  <tbody>\n",
       "    <tr>\n",
       "      <th>0</th>\n",
       "      <td>양지고등학교</td>\n",
       "      <td>경기도 안산시 단원구 고잔동 713번지</td>\n",
       "      <td>37.309535</td>\n",
       "      <td>126.822268</td>\n",
       "      <td>1879.41</td>\n",
       "    </tr>\n",
       "    <tr>\n",
       "      <th>1</th>\n",
       "      <td>초지고등학교</td>\n",
       "      <td>경기도 안산시 단원구 광덕1로 13</td>\n",
       "      <td>37.309868</td>\n",
       "      <td>126.810919</td>\n",
       "      <td>2667.32</td>\n",
       "    </tr>\n",
       "    <tr>\n",
       "      <th>2</th>\n",
       "      <td>상록고등학교</td>\n",
       "      <td>경기도 안산시 상록구 본오동 산127-1번지</td>\n",
       "      <td>37.299510</td>\n",
       "      <td>126.874971</td>\n",
       "      <td>3441.52</td>\n",
       "    </tr>\n",
       "    <tr>\n",
       "      <th>3</th>\n",
       "      <td>원곡고등학교</td>\n",
       "      <td>경기도 안산시 단원구 원곡동 965-1번지</td>\n",
       "      <td>37.333300</td>\n",
       "      <td>126.798053</td>\n",
       "      <td>5277.85</td>\n",
       "    </tr>\n",
       "    <tr>\n",
       "      <th>4</th>\n",
       "      <td>안산고등학교</td>\n",
       "      <td>경기도 안산시 상록구 청룡4길 8</td>\n",
       "      <td>37.360044</td>\n",
       "      <td>126.873672</td>\n",
       "      <td>7773.66</td>\n",
       "    </tr>\n",
       "    <tr>\n",
       "      <th>5</th>\n",
       "      <td>불곡고등학교</td>\n",
       "      <td>경기도 성남시 분당구 금곡로 149번지</td>\n",
       "      <td>37.348080</td>\n",
       "      <td>127.119199</td>\n",
       "      <td>25651.42</td>\n",
       "    </tr>\n",
       "    <tr>\n",
       "      <th>6</th>\n",
       "      <td>행신고등학교</td>\n",
       "      <td>경기도 고양시 덕양구 행신동 790번지</td>\n",
       "      <td>37.616131</td>\n",
       "      <td>126.842504</td>\n",
       "      <td>35495.06</td>\n",
       "    </tr>\n",
       "  </tbody>\n",
       "</table>\n",
       "</div>"
      ],
      "text/plain": [
       "     name                   address   latitude   longitude  distance\n",
       "0  양지고등학교     경기도 안산시 단원구 고잔동 713번지  37.309535  126.822268   1879.41\n",
       "1  초지고등학교       경기도 안산시 단원구 광덕1로 13  37.309868  126.810919   2667.32\n",
       "2  상록고등학교  경기도 안산시 상록구 본오동 산127-1번지  37.299510  126.874971   3441.52\n",
       "3  원곡고등학교   경기도 안산시 단원구 원곡동 965-1번지  37.333300  126.798053   5277.85\n",
       "4  안산고등학교        경기도 안산시 상록구 청룡4길 8  37.360044  126.873672   7773.66\n",
       "5  불곡고등학교     경기도 성남시 분당구 금곡로 149번지  37.348080  127.119199  25651.42\n",
       "6  행신고등학교     경기도 고양시 덕양구 행신동 790번지  37.616131  126.842504  35495.06"
      ]
     },
     "execution_count": 23,
     "metadata": {},
     "output_type": "execute_result"
    }
   ],
   "source": [
    "#거리 순으로 데이터 정렬하기\n",
    "near_school_df = fdata.sort_values('distance')\n",
    "near_school_df.reset_index(drop=True, inplace=True)\n",
    "near_school_df"
   ]
  },
  {
   "cell_type": "code",
   "execution_count": 25,
   "metadata": {
    "collapsed": true
   },
   "outputs": [],
   "source": [
    "#가장 가까운 곳 찾기\n",
    "nearest_latlng = near_school_df.loc[0][['latitude', 'longitude']].values"
   ]
  },
  {
   "cell_type": "markdown",
   "metadata": {},
   "source": [
    "### 4. 지도로 표시하기 "
   ]
  },
  {
   "cell_type": "code",
   "execution_count": 26,
   "metadata": {},
   "outputs": [
    {
     "data": {
      "text/html": [
       "<div style=\"width:100%;\"><div style=\"position:relative;width:100%;height:0;padding-bottom:60%;\"><iframe src=\"data:text/html;charset=utf-8;base64,PCFET0NUWVBFIGh0bWw+CjxoZWFkPiAgICAKICAgIDxtZXRhIGh0dHAtZXF1aXY9ImNvbnRlbnQtdHlwZSIgY29udGVudD0idGV4dC9odG1sOyBjaGFyc2V0PVVURi04IiAvPgogICAgPHNjcmlwdD5MX1BSRUZFUl9DQU5WQVMgPSBmYWxzZTsgTF9OT19UT1VDSCA9IGZhbHNlOyBMX0RJU0FCTEVfM0QgPSBmYWxzZTs8L3NjcmlwdD4KICAgIDxzY3JpcHQgc3JjPSJodHRwczovL2Nkbi5qc2RlbGl2ci5uZXQvbnBtL2xlYWZsZXRAMS4yLjAvZGlzdC9sZWFmbGV0LmpzIj48L3NjcmlwdD4KICAgIDxzY3JpcHQgc3JjPSJodHRwczovL2FqYXguZ29vZ2xlYXBpcy5jb20vYWpheC9saWJzL2pxdWVyeS8xLjExLjEvanF1ZXJ5Lm1pbi5qcyI+PC9zY3JpcHQ+CiAgICA8c2NyaXB0IHNyYz0iaHR0cHM6Ly9tYXhjZG4uYm9vdHN0cmFwY2RuLmNvbS9ib290c3RyYXAvMy4yLjAvanMvYm9vdHN0cmFwLm1pbi5qcyI+PC9zY3JpcHQ+CiAgICA8c2NyaXB0IHNyYz0iaHR0cHM6Ly9jZG5qcy5jbG91ZGZsYXJlLmNvbS9hamF4L2xpYnMvTGVhZmxldC5hd2Vzb21lLW1hcmtlcnMvMi4wLjIvbGVhZmxldC5hd2Vzb21lLW1hcmtlcnMuanMiPjwvc2NyaXB0PgogICAgPGxpbmsgcmVsPSJzdHlsZXNoZWV0IiBocmVmPSJodHRwczovL2Nkbi5qc2RlbGl2ci5uZXQvbnBtL2xlYWZsZXRAMS4yLjAvZGlzdC9sZWFmbGV0LmNzcyIgLz4KICAgIDxsaW5rIHJlbD0ic3R5bGVzaGVldCIgaHJlZj0iaHR0cHM6Ly9tYXhjZG4uYm9vdHN0cmFwY2RuLmNvbS9ib290c3RyYXAvMy4yLjAvY3NzL2Jvb3RzdHJhcC5taW4uY3NzIiAvPgogICAgPGxpbmsgcmVsPSJzdHlsZXNoZWV0IiBocmVmPSJodHRwczovL21heGNkbi5ib290c3RyYXBjZG4uY29tL2Jvb3RzdHJhcC8zLjIuMC9jc3MvYm9vdHN0cmFwLXRoZW1lLm1pbi5jc3MiIC8+CiAgICA8bGluayByZWw9InN0eWxlc2hlZXQiIGhyZWY9Imh0dHBzOi8vbWF4Y2RuLmJvb3RzdHJhcGNkbi5jb20vZm9udC1hd2Vzb21lLzQuNi4zL2Nzcy9mb250LWF3ZXNvbWUubWluLmNzcyIgLz4KICAgIDxsaW5rIHJlbD0ic3R5bGVzaGVldCIgaHJlZj0iaHR0cHM6Ly9jZG5qcy5jbG91ZGZsYXJlLmNvbS9hamF4L2xpYnMvTGVhZmxldC5hd2Vzb21lLW1hcmtlcnMvMi4wLjIvbGVhZmxldC5hd2Vzb21lLW1hcmtlcnMuY3NzIiAvPgogICAgPGxpbmsgcmVsPSJzdHlsZXNoZWV0IiBocmVmPSJodHRwczovL3Jhd2dpdC5jb20vcHl0aG9uLXZpc3VhbGl6YXRpb24vZm9saXVtL21hc3Rlci9mb2xpdW0vdGVtcGxhdGVzL2xlYWZsZXQuYXdlc29tZS5yb3RhdGUuY3NzIiAvPgogICAgPHN0eWxlPmh0bWwsIGJvZHkge3dpZHRoOiAxMDAlO2hlaWdodDogMTAwJTttYXJnaW46IDA7cGFkZGluZzogMDt9PC9zdHlsZT4KICAgIDxzdHlsZT4jbWFwIHtwb3NpdGlvbjphYnNvbHV0ZTt0b3A6MDtib3R0b206MDtyaWdodDowO2xlZnQ6MDt9PC9zdHlsZT4KICAgIAogICAgICAgICAgICA8c3R5bGU+ICNtYXBfYzlhNTU1ZTJkMDhlNGZmNzgxOGY1YmRlOTk5NDU1ODYgewogICAgICAgICAgICAgICAgcG9zaXRpb24gOiByZWxhdGl2ZTsKICAgICAgICAgICAgICAgIHdpZHRoIDogMTAwLjAlOwogICAgICAgICAgICAgICAgaGVpZ2h0OiAxMDAuMCU7CiAgICAgICAgICAgICAgICBsZWZ0OiAwLjAlOwogICAgICAgICAgICAgICAgdG9wOiAwLjAlOwogICAgICAgICAgICAgICAgfQogICAgICAgICAgICA8L3N0eWxlPgogICAgICAgIAo8L2hlYWQ+Cjxib2R5PiAgICAKICAgIAogICAgICAgICAgICA8ZGl2IGNsYXNzPSJmb2xpdW0tbWFwIiBpZD0ibWFwX2M5YTU1NWUyZDA4ZTRmZjc4MThmNWJkZTk5OTQ1NTg2IiA+PC9kaXY+CiAgICAgICAgCjwvYm9keT4KPHNjcmlwdD4gICAgCiAgICAKCiAgICAgICAgICAgIAogICAgICAgICAgICAgICAgdmFyIGJvdW5kcyA9IG51bGw7CiAgICAgICAgICAgIAoKICAgICAgICAgICAgdmFyIG1hcF9jOWE1NTVlMmQwOGU0ZmY3ODE4ZjViZGU5OTk0NTU4NiA9IEwubWFwKAogICAgICAgICAgICAgICAgICAgICAgICAgICAgICAgICAgJ21hcF9jOWE1NTVlMmQwOGU0ZmY3ODE4ZjViZGU5OTk0NTU4NicsCiAgICAgICAgICAgICAgICAgICAgICAgICAgICAgICAgICB7Y2VudGVyOiBbMzcuMzAwODUzLDEyNi44NDI5M10sCiAgICAgICAgICAgICAgICAgICAgICAgICAgICAgICAgICB6b29tOiAxMywKICAgICAgICAgICAgICAgICAgICAgICAgICAgICAgICAgIG1heEJvdW5kczogYm91bmRzLAogICAgICAgICAgICAgICAgICAgICAgICAgICAgICAgICAgbGF5ZXJzOiBbXSwKICAgICAgICAgICAgICAgICAgICAgICAgICAgICAgICAgIHdvcmxkQ29weUp1bXA6IGZhbHNlLAogICAgICAgICAgICAgICAgICAgICAgICAgICAgICAgICAgY3JzOiBMLkNSUy5FUFNHMzg1NwogICAgICAgICAgICAgICAgICAgICAgICAgICAgICAgICB9KTsKICAgICAgICAgICAgCiAgICAgICAgCiAgICAKICAgICAgICAgICAgdmFyIHRpbGVfbGF5ZXJfZjZiODNlMWIxMDVhNGM1OGJiMGJhMDEyY2JhYjBlODUgPSBMLnRpbGVMYXllcigKICAgICAgICAgICAgICAgICdodHRwczovL3tzfS50aWxlLm9wZW5zdHJlZXRtYXAub3JnL3t6fS97eH0ve3l9LnBuZycsCiAgICAgICAgICAgICAgICB7CiAgImF0dHJpYnV0aW9uIjogbnVsbCwKICAiZGV0ZWN0UmV0aW5hIjogZmFsc2UsCiAgIm1heFpvb20iOiAxOCwKICAibWluWm9vbSI6IDEsCiAgIm5vV3JhcCI6IGZhbHNlLAogICJzdWJkb21haW5zIjogImFiYyIKfQogICAgICAgICAgICAgICAgKS5hZGRUbyhtYXBfYzlhNTU1ZTJkMDhlNGZmNzgxOGY1YmRlOTk5NDU1ODYpOwogICAgICAgIAogICAgCiAgICAgICAgICAgIHZhciBjaXJjbGVfbWFya2VyX2M4YTY4MjI2MjgzODRhNTM5Mzc5ZWI5YzJhMDZmYTZhID0gTC5jaXJjbGVNYXJrZXIoCiAgICAgICAgICAgICAgICBbMzcuMzA5NTM1MiwxMjYuODIyMjY4M10sCiAgICAgICAgICAgICAgICB7CiAgImJ1YmJsaW5nTW91c2VFdmVudHMiOiB0cnVlLAogICJjb2xvciI6ICJyZWQiLAogICJkYXNoQXJyYXkiOiBudWxsLAogICJkYXNoT2Zmc2V0IjogbnVsbCwKICAiZmlsbCI6IGZhbHNlLAogICJmaWxsQ29sb3IiOiAicmVkIiwKICAiZmlsbE9wYWNpdHkiOiAwLjIsCiAgImZpbGxSdWxlIjogImV2ZW5vZGQiLAogICJsaW5lQ2FwIjogInJvdW5kIiwKICAibGluZUpvaW4iOiAicm91bmQiLAogICJvcGFjaXR5IjogMS4wLAogICJyYWRpdXMiOiA1LAogICJzdHJva2UiOiB0cnVlLAogICJ3ZWlnaHQiOiAzCn0KICAgICAgICAgICAgICAgICkuYWRkVG8obWFwX2M5YTU1NWUyZDA4ZTRmZjc4MThmNWJkZTk5OTQ1NTg2KTsKICAgICAgICAgICAgCiAgICAKICAgICAgICAgICAgdmFyIHBvcHVwX2QxMWRkNTRkODc4ZjQyNjk4ODE4NjMxYTY4MzIyZDZjID0gTC5wb3B1cCh7bWF4V2lkdGg6ICczMDAnfSk7CgogICAgICAgICAgICAKICAgICAgICAgICAgICAgIHZhciBodG1sXzA2MTZmNDM0ZWEzMjQzM2E5NGU3M2U0ZGUwOWNiNDBjID0gJCgnPGRpdiBpZD0iaHRtbF8wNjE2ZjQzNGVhMzI0MzNhOTRlNzNlNGRlMDljYjQwYyIgc3R5bGU9IndpZHRoOiAxMDAuMCU7IGhlaWdodDogMTAwLjAlOyI+7JaR7KeA6rOg65Ox7ZWZ6rWQPC9kaXY+JylbMF07CiAgICAgICAgICAgICAgICBwb3B1cF9kMTFkZDU0ZDg3OGY0MjY5ODgxODYzMWE2ODMyMmQ2Yy5zZXRDb250ZW50KGh0bWxfMDYxNmY0MzRlYTMyNDMzYTk0ZTczZTRkZTA5Y2I0MGMpOwogICAgICAgICAgICAKCiAgICAgICAgICAgIGNpcmNsZV9tYXJrZXJfYzhhNjgyMjYyODM4NGE1MzkzNzllYjljMmEwNmZhNmEuYmluZFBvcHVwKHBvcHVwX2QxMWRkNTRkODc4ZjQyNjk4ODE4NjMxYTY4MzIyZDZjKTsKCiAgICAgICAgICAgIAogICAgICAgIAogICAgCiAgICAgICAgICAgIHZhciBjaXJjbGVfbWFya2VyXzU3MTQxZDVlZWJkMTQ0MjliMTUyZjI1ZDM2ZDJiNmNkID0gTC5jaXJjbGVNYXJrZXIoCiAgICAgICAgICAgICAgICBbMzcuMjk2NzU1LDEyNi44MzYxOTRdLAogICAgICAgICAgICAgICAgewogICJidWJibGluZ01vdXNlRXZlbnRzIjogdHJ1ZSwKICAiY29sb3IiOiAiYmx1ZSIsCiAgImRhc2hBcnJheSI6IG51bGwsCiAgImRhc2hPZmZzZXQiOiBudWxsLAogICJmaWxsIjogZmFsc2UsCiAgImZpbGxDb2xvciI6ICJibHVlIiwKICAiZmlsbE9wYWNpdHkiOiAwLjIsCiAgImZpbGxSdWxlIjogImV2ZW5vZGQiLAogICJsaW5lQ2FwIjogInJvdW5kIiwKICAibGluZUpvaW4iOiAicm91bmQiLAogICJvcGFjaXR5IjogMS4wLAogICJyYWRpdXMiOiA1LAogICJzdHJva2UiOiB0cnVlLAogICJ3ZWlnaHQiOiAzCn0KICAgICAgICAgICAgICAgICkuYWRkVG8obWFwX2M5YTU1NWUyZDA4ZTRmZjc4MThmNWJkZTk5OTQ1NTg2KTsKICAgICAgICAgICAgCiAgICAKICAgICAgICAgICAgdmFyIHBvcHVwXzFjZjkzYzk5MmRlNzQ2Y2M5MDM5YTM4NGExZGY5MGZiID0gTC5wb3B1cCh7bWF4V2lkdGg6ICczMDAnfSk7CgogICAgICAgICAgICAKICAgICAgICAgICAgICAgIHZhciBodG1sX2NkNGVmYWE1Yzg0NjQ1MTdiZDg3M2FiMDhmZTkyOTc2ID0gJCgnPGRpdiBpZD0iaHRtbF9jZDRlZmFhNWM4NDY0NTE3YmQ4NzNhYjA4ZmU5Mjk3NiIgc3R5bGU9IndpZHRoOiAxMDAuMCU7IGhlaWdodDogMTAwLjAlOyI+7ZWc7JaR64yA7ZWZ6rWQIOygnDTqs7XtlZnqtIA8L2Rpdj4nKVswXTsKICAgICAgICAgICAgICAgIHBvcHVwXzFjZjkzYzk5MmRlNzQ2Y2M5MDM5YTM4NGExZGY5MGZiLnNldENvbnRlbnQoaHRtbF9jZDRlZmFhNWM4NDY0NTE3YmQ4NzNhYjA4ZmU5Mjk3Nik7CiAgICAgICAgICAgIAoKICAgICAgICAgICAgY2lyY2xlX21hcmtlcl81NzE0MWQ1ZWViZDE0NDI5YjE1MmYyNWQzNmQyYjZjZC5iaW5kUG9wdXAocG9wdXBfMWNmOTNjOTkyZGU3NDZjYzkwMzlhMzg0YTFkZjkwZmIpOwoKICAgICAgICAgICAgCiAgICAgICAgCjwvc2NyaXB0Pg==\" style=\"position:absolute;width:100%;height:100%;left:0;top:0;border:none !important;\" allowfullscreen webkitallowfullscreen mozallowfullscreen></iframe></div></div>"
      ],
      "text/plain": [
       "<folium.folium.Map at 0x74d3a10>"
      ]
     },
     "execution_count": 26,
     "metadata": {},
     "output_type": "execute_result"
    }
   ],
   "source": [
    "# 지도 \n",
    "hanyang_univ_map2 = folium.Map(location=[37.300853, 126.842930], zoom_start=13)\n",
    "# 식당표시\n",
    "folium.CircleMarker(nearest_latlng, popup=near_school_df.loc[0]['name'], color='red', fill_color='red', radius=5).add_to(hanyang_univ_map2)\n",
    "# 내 위치 표시\n",
    "folium.CircleMarker(my_location, popup=my_location_name,color='blue', fill_color='blue', radius=5).add_to(hanyang_univ_map2)\n",
    "hanyang_univ_map2"
   ]
  }
 ],
 "metadata": {
  "kernelspec": {
   "display_name": "Python 3",
   "language": "python",
   "name": "python3"
  },
  "language_info": {
   "codemirror_mode": {
    "name": "ipython",
    "version": 3
   },
   "file_extension": ".py",
   "mimetype": "text/x-python",
   "name": "python",
   "nbconvert_exporter": "python",
   "pygments_lexer": "ipython3",
   "version": "3.6.1"
  }
 },
 "nbformat": 4,
 "nbformat_minor": 2
}
