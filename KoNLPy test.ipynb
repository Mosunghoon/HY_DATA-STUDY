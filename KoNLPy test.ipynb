{
 "cells": [
  {
   "cell_type": "markdown",
   "metadata": {},
   "source": [
    "## KoNLPy 라이브러리 테스트 및 학습"
   ]
  },
  {
   "cell_type": "code",
   "execution_count": 2,
   "metadata": {
    "scrolled": true
   },
   "outputs": [
    {
     "name": "stdout",
     "output_type": "stream",
     "text": [
      "['네, 안녕하세요.', '반갑습니다.']\n"
     ]
    }
   ],
   "source": [
    "from konlpy.tag import Kkma\n",
    "from konlpy.utils import pprint\n",
    "kkma = Kkma()\n",
    "pprint(kkma.sentences(u'네, 안녕하세요. 반갑습니다.'))"
   ]
  },
  {
   "cell_type": "code",
   "execution_count": null,
   "metadata": {
    "collapsed": true
   },
   "outputs": [],
   "source": [
    "# Kkma라는 라이브러리에서 konlpy.tag라는 메소드와 pprint라는 라이브러리에서 konlpy.utils라는 메소드를 불러온 듯 하다.\n",
    "# kkma는 Kkma 라는 클래스의 인스턴스가 되었다.\n",
    "# 그래서 kkma.sentences는 괄호 안에 유니코드로 입력되는 한글 스트링을 kkma라는 인스턴스에 입력하는 것이고\n",
    "# pprint는 .(period)를 기준으로 하여 리스트화 하여 결과물을을 출력하는 기능을 하는 듯 하다."
   ]
  },
  {
   "cell_type": "code",
   "execution_count": 3,
   "metadata": {},
   "outputs": [
    {
     "name": "stdout",
     "output_type": "stream",
     "text": [
      "['질문', '건의', '건의사항', '사항', '깃헙', '이슈', '트래커']\n"
     ]
    }
   ],
   "source": [
    "pprint(kkma.nouns(u'질문이나 건의사항은 깃헙 이슈 트래커에 남겨주세요'))"
   ]
  },
  {
   "cell_type": "code",
   "execution_count": 4,
   "metadata": {
    "collapsed": true
   },
   "outputs": [],
   "source": [
    "# .nouns라는 메소드는 해당 문장을 명사들로 분해하는 역할을 하는 것 같다.\n",
    "# 그래서 조사인 '이나','은','에'와 동사인 '남기다','주다' 등은 인식하지 않는 것 같다."
   ]
  },
  {
   "cell_type": "code",
   "execution_count": 5,
   "metadata": {},
   "outputs": [
    {
     "name": "stdout",
     "output_type": "stream",
     "text": [
      "[('오류', 'NNG'),\n",
      " ('보고', 'NNG'),\n",
      " ('는', 'JX'),\n",
      " ('실행', 'NNG'),\n",
      " ('환경', 'NNG'),\n",
      " (',', 'SP'),\n",
      " ('에러', 'NNG'),\n",
      " ('메세지', 'NNG'),\n",
      " ('와', 'JKM'),\n",
      " ('함께', 'MAG'),\n",
      " ('설명', 'NNG'),\n",
      " ('을', 'JKO'),\n",
      " ('최대한', 'NNG'),\n",
      " ('상세히', 'MAG'),\n",
      " ('!', 'SF'),\n",
      " ('^^', 'EMO')]\n"
     ]
    }
   ],
   "source": [
    "pprint(kkma.pos(u'오류보고는 실행환경, 에러메세지와함께 설명을 최대한상세히!^^'))"
   ]
  },
  {
   "cell_type": "code",
   "execution_count": 7,
   "metadata": {
    "collapsed": true
   },
   "outputs": [],
   "source": [
    "# .pos 메소드는 형태소 단위로 문장을 분해하며, 분해된 개별 형태소들은 그것이 분류되는 타입과 함께 튜플로 저장되고,\n",
    "# 튜플들은 리스트화 되어 저장된다."
   ]
  },
  {
   "cell_type": "markdown",
   "metadata": {},
   "source": [
    "### 형태소 분류 학습할 것\n",
    "https://ko.wikipedia.org/wiki/%ED%98%95%ED%83%9C%EC%86%8C"
   ]
  },
  {
   "cell_type": "code",
   "execution_count": 8,
   "metadata": {},
   "outputs": [
    {
     "data": {
      "text/plain": [
       "('오류', 'NNG')"
      ]
     },
     "execution_count": 8,
     "metadata": {},
     "output_type": "execute_result"
    }
   ],
   "source": [
    "kkma.pos(u'오류보고는 실행환경, 에러메세지와함께 설명을 최대한상세히!^^')[0]"
   ]
  },
  {
   "cell_type": "code",
   "execution_count": 9,
   "metadata": {
    "scrolled": true
   },
   "outputs": [
    {
     "data": {
      "text/plain": [
       "[('오류', 'NNG'),\n",
       " ('보고', 'NNG'),\n",
       " ('는', 'JX'),\n",
       " ('실행', 'NNG'),\n",
       " ('환경', 'NNG'),\n",
       " (',', 'SP'),\n",
       " ('에러', 'NNG'),\n",
       " ('메세지', 'NNG'),\n",
       " ('와', 'JKM'),\n",
       " ('함께', 'MAG'),\n",
       " ('설명', 'NNG'),\n",
       " ('을', 'JKO'),\n",
       " ('최대한', 'NNG'),\n",
       " ('상세히', 'MAG'),\n",
       " ('!', 'SF'),\n",
       " ('^^', 'EMO')]"
      ]
     },
     "execution_count": 9,
     "metadata": {},
     "output_type": "execute_result"
    }
   ],
   "source": [
    "kkma.pos(u'오류보고는 실행환경, 에러메세지와함께 설명을 최대한상세히!^^')"
   ]
  },
  {
   "cell_type": "code",
   "execution_count": null,
   "metadata": {
    "collapsed": true
   },
   "outputs": [],
   "source": []
  }
 ],
 "metadata": {
  "kernelspec": {
   "display_name": "Python 3",
   "language": "python",
   "name": "python3"
  },
  "language_info": {
   "codemirror_mode": {
    "name": "ipython",
    "version": 3
   },
   "file_extension": ".py",
   "mimetype": "text/x-python",
   "name": "python",
   "nbconvert_exporter": "python",
   "pygments_lexer": "ipython3",
   "version": "3.6.1"
  }
 },
 "nbformat": 4,
 "nbformat_minor": 2
}
