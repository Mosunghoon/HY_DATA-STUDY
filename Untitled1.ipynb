{
 "cells": [
  {
   "cell_type": "code",
   "execution_count": 10,
   "metadata": {
    "scrolled": false
   },
   "outputs": [],
   "source": [
    "import urllib.request\n",
    "import time\n",
    "import re\n",
    "\n",
    "def get_contents(url):\n",
    "    f=urllib.request.urlopen(url) #f는 url주소를 열어서 불러온것\n",
    "    contentsByte=f.read()         #contentsByte는 f를 읽어온 것.\n",
    "                                  #하지만, 처리가능한 형태가 아님\n",
    "    contentsStr=contentsByte.decode('cp949') #처리가능한 형태로 디코딩하고 그것을 변수로 지정해주기\n",
    "    f.close()\n",
    "    return contentsStr\n",
    "    \n",
    "for i in range(86094,86096):\n",
    "    k = 'http://www.ppomppu.co.kr/zboard/view.php?id=ppomppu4&page=1&divpage=16&no='+str(i)\n",
    "    contents=get_contents(k)\n",
    "    m=re.search('18.75px;\"=\"\">([\\d\\D]+)</span>', contents, re.S)\n",
    "    #price=m.group()\n",
    "    #first_hang = m.group(1)\n",
    "    \n",
    "    time.sleep(5)\n",
    "#print(first_hang)\n",
    "    \n"
   ]
  },
  {
   "cell_type": "code",
   "execution_count": null,
   "metadata": {
    "collapsed": true
   },
   "outputs": [],
   "source": []
  }
 ],
 "metadata": {
  "kernelspec": {
   "display_name": "Python 3",
   "language": "python",
   "name": "python3"
  },
  "language_info": {
   "codemirror_mode": {
    "name": "ipython",
    "version": 3
   },
   "file_extension": ".py",
   "mimetype": "text/x-python",
   "name": "python",
   "nbconvert_exporter": "python",
   "pygments_lexer": "ipython3",
   "version": "3.6.1"
  }
 },
 "nbformat": 4,
 "nbformat_minor": 2
}
