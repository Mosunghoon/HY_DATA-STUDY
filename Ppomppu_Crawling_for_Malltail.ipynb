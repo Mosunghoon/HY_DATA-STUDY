{
 "cells": [
  {
   "cell_type": "code",
   "execution_count": null,
   "metadata": {
    "collapsed": true
   },
   "outputs": [],
   "source": [
    "from urllib.request import urlopen\n",
    "import re\n",
    "import requests\n",
    "from bs4 import BeautifulSoup"
   ]
  },
  {
   "cell_type": "code",
   "execution_count": null,
   "metadata": {
    "collapsed": true
   },
   "outputs": [],
   "source": [
    "def getContents(url):\n",
    "    f =urllib.request.urlopen(url)\n",
    "    contentsByte=f.read()\n",
    "    contentsStr=contentsByte.decode(\"cp949\")\n",
    "    return contentsStr\n",
    "\n",
    "for i in range(86090,86096):\n",
    "    ppomppu = 'http://www.ppomppu.co.kr/zboard/view.php?id=ppomppu4&page=1&divpage=16&no='+str(i)\n",
    "    html=urlopen(ppomppu)\n",
    "    output = getContents(ppomppu)\n",
    "    soup = BeautifulSoup(html, 'html.parser')\n",
    "    #print(soup)\n",
    "    title = soup.find_all(\"font\", {\"class\" : \"view_title2\"})\n",
    "    aisle = soup.find_all(\"font\", {\"class\" : \"view_cate\"})\n",
    "    contents = soup.find_all(class_='pic_bg')\n",
    "    for t in title:\n",
    "        print(t.get_text())\n",
    "        for a in aisle:\n",
    "            print(a.get_text())\n",
    "    \n",
    "    for c in contents:\n",
    "        print(c.get_text().strip())\n",
    "    \n",
    "    #for tag in soup.select(\".container > .han > p\"):\n",
    "    #    print(tag)\n",
    "        #print(m[0])\n",
    "    print(\"=\"*25)\n"
   ]
  },
  {
   "cell_type": "code",
   "execution_count": null,
   "metadata": {
    "collapsed": true
   },
   "outputs": [],
   "source": []
  }
 ],
 "metadata": {
  "kernelspec": {
   "display_name": "Python 3",
   "language": "python",
   "name": "python3"
  },
  "language_info": {
   "codemirror_mode": {
    "name": "ipython",
    "version": 3
   },
   "file_extension": ".py",
   "mimetype": "text/x-python",
   "name": "python",
   "nbconvert_exporter": "python",
   "pygments_lexer": "ipython3",
   "version": "3.6.1"
  }
 },
 "nbformat": 4,
 "nbformat_minor": 2
}
