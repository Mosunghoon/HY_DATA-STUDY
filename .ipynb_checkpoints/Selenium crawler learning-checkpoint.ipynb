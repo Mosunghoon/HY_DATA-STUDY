{
 "cells": [
  {
   "cell_type": "markdown",
   "metadata": {},
   "source": [
    "## 셀레니움을 활용한 웹크롤러 만들어보기"
   ]
  },
  {
   "cell_type": "code",
   "execution_count": 1,
   "metadata": {
    "collapsed": true
   },
   "outputs": [],
   "source": [
    "from selenium import webdriver\n",
    "from bs4 import BeautifulSoup\n",
    "import requests\n",
    "import re"
   ]
  },
  {
   "cell_type": "code",
   "execution_count": 2,
   "metadata": {
    "collapsed": true,
    "scrolled": false
   },
   "outputs": [],
   "source": [
    "driver = webdriver.Chrome('C:/Users/kogas/Downloads/chromedriver')\n",
    "driver.implicitly_wait(3)\n",
    "driver.get('https://nid.naver.com/nidlogin.login')\n",
    "driver.find_element_by_name('id').send_keys('++++++++')\n",
    "driver.find_element_by_name('pw').send_keys('++++++++')\n",
    "driver.find_element_by_xpath(\"//iframe[2]\").get_attribute('src')\n",
    "\n",
    "for i in range(179878,179879):\n",
    "    k='http://cafe.naver.com/winspec?iframe_url=/winspec/ArticleRead.nhn%3Fclubid=19903032%26page=1%26menuid=1847%26boardtype=L%26articleid='+str(i)+'%26referrerAllArticles=false.html'\n",
    "\n",
    "    driver.get(k)\n",
    "    driver.switch_to_frame(driver.find_element_by_tag_name(\"iframe\"))\n",
    "\n",
    "#bsObj=BeautifulSoup(html, \"lxml\")\n",
    "    #bsObj = BeautifulSoup(pageSource, \"lxml\")\n",
    "    #print(bsObj)\n",
    "    #print(bsObj.find(id=\"content\").get_text())\n",
    "\n",
    "\n",
    "#soup = BeautifulSoup(html, \"html.parser\")\n",
    "#print(soup)\n",
    "#notices = soup.select('div.p_inr > div.p_info > a > span')\n",
    "#print(notices)\n",
    "#for n in notices:\n",
    "#    print(n.text.strip())"
   ]
  },
  {
   "cell_type": "code",
   "execution_count": null,
   "metadata": {
    "collapsed": true
   },
   "outputs": [],
   "source": []
  },
  {
   "cell_type": "code",
   "execution_count": null,
   "metadata": {
    "collapsed": true
   },
   "outputs": [],
   "source": []
  }
 ],
 "metadata": {
  "kernelspec": {
   "display_name": "Python 3",
   "language": "python",
   "name": "python3"
  },
  "language_info": {
   "codemirror_mode": {
    "name": "ipython",
    "version": 3
   },
   "file_extension": ".py",
   "mimetype": "text/x-python",
   "name": "python",
   "nbconvert_exporter": "python",
   "pygments_lexer": "ipython3",
   "version": "3.6.1"
  }
 },
 "nbformat": 4,
 "nbformat_minor": 2
}
